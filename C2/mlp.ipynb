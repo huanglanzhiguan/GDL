{
 "cells": [
  {
   "cell_type": "code",
   "outputs": [],
   "source": [
    "# This is a simple example of a neural network using the CIFAR-10 dataset\n",
    "# The model only has 3 layers, 2 hidden layers and 1 output layer\n",
    "# Only fully connected layers are used, so the result is not performing well,\n",
    "# but it shows the basic structure of a neural network."
   ],
   "metadata": {
    "collapsed": false
   },
   "id": "a15361a3da35b28f"
  },
  {
   "cell_type": "code",
   "outputs": [],
   "source": [
    "import numpy as np\n",
    "from tensorflow.keras import datasets, utils, layers, models, optimizers"
   ],
   "metadata": {
    "collapsed": false
   },
   "id": "7dacf909565d0869",
   "execution_count": null
  },
  {
   "cell_type": "code",
   "outputs": [],
   "source": [
    "# Prepare the dataset\n",
    "(x_train, y_train), (x_test, y_test) = datasets.cifar10.load_data()\n",
    "\n",
    "assert x_train.shape == (50000, 32, 32, 3)\n",
    "assert x_test.shape == (10000, 32, 32, 3)\n",
    "assert y_train.shape == (50000, 1)\n",
    "assert y_test.shape == (10000, 1)\n",
    "\n",
    "NUM_CLASSES = 10\n",
    "x_train = x_train.astype('float32') / 255\n",
    "x_test = x_test.astype('float32') / 255\n",
    "\n",
    "# vector to binary matrix\n",
    "y_train = utils.to_categorical(y_train, NUM_CLASSES)\n",
    "y_test = utils.to_categorical(y_test, NUM_CLASSES)"
   ],
   "metadata": {
    "collapsed": false
   },
   "id": "1621f621b8bdbaed",
   "execution_count": 0
  },
  {
   "cell_type": "code",
   "outputs": [],
   "source": [
    "# Build model\n",
    "\n",
    "# Sequential model, not suitable for complex mod, not preferred\n",
    "# model = models.Sequential([\n",
    "#     layers.Flatten(input_shape=(32, 32, 3)),\n",
    "#     layers.Dense(200, activation='relu'),\n",
    "#     layers.Dense(150, activation='relu'),\n",
    "#     layers.Dense(10, activation='softmax'),\n",
    "# ])\n",
    "\n",
    "input_layer = layers.Input(shape=(32, 32, 3))\n",
    "x = layers.Flatten()(input_layer)\n",
    "x = layers.Dense(units=200, activation='relu')(x)\n",
    "x = layers.Dense(units=150, activation='relu')(x)\n",
    "output_layer = layers.Dense(units=10, activation='softmax')(x)\n",
    "model = models.Model(input_layer, output_layer)\n",
    "\n",
    "model.summary()\n",
    "\n",
    "# Compile the model\n",
    "opt = optimizers.Adam(learning_rate=0.0005)\n",
    "model.compile(loss='categorical_crossentropy', optimizer=opt, metrics=['accuracy'])\n",
    "model.fit(x_train, y_train, batch_size=32, epochs=10, shuffle=True)"
   ],
   "metadata": {
    "collapsed": false
   },
   "id": "a39a2bd910d1d39e",
   "execution_count": null
  },
  {
   "cell_type": "code",
   "outputs": [],
   "source": [
    "model.evaluate(x_test, y_test)"
   ],
   "metadata": {
    "collapsed": false
   },
   "id": "b39b2f91d8aa10ae",
   "execution_count": null
  },
  {
   "cell_type": "code",
   "outputs": [],
   "source": [],
   "metadata": {
    "collapsed": false
   },
   "id": "451383262cb695a7",
   "execution_count": null
  },
  {
   "cell_type": "code",
   "outputs": [],
   "source": [
    "CLASSES = np.array(['airplane', 'automobile', 'bird', 'cat', 'deer', 'dog', 'frog', 'horse', 'ship', 'truck'])\n",
    "preds = model.predict(x_test)\n",
    "preds_single = CLASSES[np.argmax(preds, axis=-1)]\n",
    "actual_single = CLASSES[np.argmax(y_test, axis=-1)]\n",
    "\n",
    "import matplotlib.pyplot as plt\n",
    "\n",
    "n_to_show = 10\n",
    "indices = np.random.choice(range(len(x_test)), n_to_show)\n",
    "fig = plt.figure(figsize=(15, 3))\n",
    "fig.subplots_adjust(hspace=0.4, wspace=0.4)\n",
    "\n",
    "for i, idx in enumerate(indices):\n",
    "    img = x_test[idx]\n",
    "    ax = fig.add_subplot(1, n_to_show, i+1)\n",
    "    ax.axis('off')\n",
    "    ax.text(0.5, -0.35, 'pred = ' + str(preds_single[idx]), fontsize=10, ha='center', transform=ax.transAxes)\n",
    "    ax.text(0.5, -0.7, 'act = ' + str(actual_single[idx]), fontsize=10, ha='center', transform=ax.transAxes)\n",
    "    ax.imshow(img)"
   ],
   "metadata": {
    "collapsed": false
   },
   "id": "35deaed6fda06928",
   "execution_count": null
  },
  {
   "cell_type": "code",
   "outputs": [],
   "source": [],
   "metadata": {
    "collapsed": false
   },
   "id": "35aadd4842495189"
  }
 ],
 "metadata": {
  "kernelspec": {
   "display_name": "Python 3",
   "language": "python",
   "name": "python3"
  },
  "language_info": {
   "codemirror_mode": {
    "name": "ipython",
    "version": 2
   },
   "file_extension": ".py",
   "mimetype": "text/x-python",
   "name": "python",
   "nbconvert_exporter": "python",
   "pygments_lexer": "ipython2",
   "version": "2.7.6"
  }
 },
 "nbformat": 4,
 "nbformat_minor": 5
}
