{
 "cells": [
  {
   "cell_type": "raw",
   "source": [
    "\n"
   ],
   "metadata": {
    "collapsed": false
   },
   "id": "b0beb591b274f88f",
   "outputs": []
  },
  {
   "cell_type": "code",
   "outputs": [],
   "source": [
    "import lamda\n",
    "import numpy as np\n",
    "from tensorflow.keras import datasets, utils, layers, models, optimizers"
   ],
   "metadata": {
    "collapsed": false
   },
   "id": "fd7f86420c456bfb",
   "execution_count": null
  },
  {
   "cell_type": "code",
   "outputs": [],
   "source": [
    "(x_train, y_train), (x_test, y_test) = datasets.cifar10.load_data()\n",
    "\n",
    "assert x_train.shape == (50000, 32, 32, 3)\n",
    "assert x_test.shape == (10000, 32, 32, 3)\n",
    "assert y_train.shape == (50000, 1)\n",
    "assert y_test.shape == (10000, 1)\n",
    "\n",
    "NUM_CLASSES = 10\n",
    "x_train = x_train.astype('float32') / 255\n",
    "x_test = x_test.astype('float32') / 255\n",
    "\n",
    "# vector to binary matrix\n",
    "y_train = utils.to_categorical(y_train, NUM_CLASSES)\n",
    "y_test = utils.to_categorical(y_test, NUM_CLASSES)"
   ],
   "metadata": {
    "collapsed": false
   },
   "id": "7b787d6f03995106",
   "execution_count": null
  },
  {
   "cell_type": "code",
   "outputs": [],
   "source": [
    "input_layer = layers.Input(shape=(32, 32, 3))\n",
    "x = layers.Conv2D(filters=32, kernel_size=3, strides=1, padding='same')(input_layer)\n",
    "x = layers.BatchNormalization()(x)\n",
    "x = layers.LeakyReLU()(x)\n",
    "x = layers.Conv2D(filters=32, kernel_size=3, strides=2, padding='same')(x)\n",
    "x = layers.BatchNormalization()(x)\n",
    "x = layers.LeakyReLU()(x)\n",
    "x = layers.Conv2D(filters=64, kernel_size=3, strides=1, padding='same')(x)\n",
    "x = layers.BatchNormalization()(x)\n",
    "x = layers.LeakyReLU()(x)\n",
    "x = layers.Conv2D(filters=64, kernel_size=3, strides=2, padding='same')(x)\n",
    "x = layers.BatchNormalization()(x)\n",
    "x = layers.LeakyReLU()(x)\n",
    "x = layers.Flatten()(x)\n",
    "x = layers.Dense(128)(x)\n",
    "x = layers.BatchNormalization()(x)\n",
    "x = layers.LeakyReLU()(x)\n",
    "x = layers.Dropout(rate = 0.5)(x)\n",
    "output_layer = layers.Dense(10, activation='softmax')(x)\n",
    "model = models.Model(input_layer, output_layer)\n",
    "\n",
    "model.summary()\n",
    "\n",
    "opt = optimizers.Adam(learning_rate=0.0005)\n",
    "model.compile(loss='categorical_crossentropy', optimizer=opt, metrics=['accuracy'])\n",
    "model.fit(x_train, y_train, batch_size=32, epochs=10, shuffle=True)\n",
    "model.evaluate(x_test, y_test)"
   ],
   "metadata": {
    "collapsed": false
   },
   "id": "b27980dc1535564e",
   "execution_count": null
  },
  {
   "cell_type": "code",
   "outputs": [],
   "source": [
    "# This is the example to convert keras model to onnx model\n",
    "\n",
    "import tf2onnx\n",
    "import onnx\n",
    "\n",
    "model_proto, _ = tf2onnx.convert.from_keras(model, opset=13, output_path=\"model.onnx\")\n",
    "onnx.save(model_proto, \"model.onnx\")"
   ],
   "metadata": {
    "collapsed": false
   },
   "id": "eb5ab04f44eeb70a",
   "execution_count": null
  },
  {
   "cell_type": "code",
   "outputs": [],
   "source": [],
   "metadata": {
    "collapsed": false
   },
   "id": "28384ce53b3ad55e"
  }
 ],
 "metadata": {
  "kernelspec": {
   "display_name": "Python 3",
   "language": "python",
   "name": "python3"
  },
  "language_info": {
   "codemirror_mode": {
    "name": "ipython",
    "version": 2
   },
   "file_extension": ".py",
   "mimetype": "text/x-python",
   "name": "python",
   "nbconvert_exporter": "python",
   "pygments_lexer": "ipython2",
   "version": "2.7.6"
  }
 },
 "nbformat": 4,
 "nbformat_minor": 5
}
