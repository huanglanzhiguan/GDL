{
 "cells": [
  {
   "cell_type": "code",
   "outputs": [
    {
     "name": "stdout",
     "output_type": "stream",
     "text": [
      "(50000, 32, 32, 3)\n"
     ]
    }
   ],
   "source": [
    "import numpy as np\n",
    "from tensorflow.keras import datasets, utils, layers, models\n",
    "\n",
    "(x_train, y_train), (x_test, y_test) = datasets.cifar10.load_data()\n",
    "\n",
    "assert x_train.shape == (50000, 32, 32, 3)\n",
    "assert x_test.shape == (10000, 32, 32, 3)\n",
    "assert y_train.shape == (50000, 1)\n",
    "assert y_test.shape == (10000, 1)\n",
    "\n",
    "print(x_train.shape)"
   ],
   "metadata": {
    "collapsed": false,
    "ExecuteTime": {
     "end_time": "2024-03-19T09:04:10.294672Z",
     "start_time": "2024-03-19T09:04:09.543438Z"
    }
   },
   "id": "9ee80a6e5efc84c",
   "execution_count": 4
  },
  {
   "cell_type": "code",
   "outputs": [],
   "source": [
    "NUM_CLASSES = 10\n",
    "x_train = x_train.astype('float32') / 255\n",
    "x_test = x_test.astype('float32') / 255\n",
    "\n",
    "# vector to binary matrix\n",
    "y_train = utils.to_categorical(y_train, NUM_CLASSES)\n",
    "y_test = utils.to_categorical(y_test, NUM_CLASSES)\n",
    "\n",
    "# Sequential model, not suitable for complex mod, not preferred\n",
    "# model = models.Sequential([\n",
    "#     layers.Flatten(input_shape=(32, 32, 3)),\n",
    "#     layers.Dense(200, activation='relu'),\n",
    "#     layers.Dense(150, activation='relu'),\n",
    "#     layers.Dense(10, activation='softmax'),\n",
    "# ])\n",
    "\n",
    "input_layer = layers.Input(shape=(32, 32, 3))\n",
    "x = layers.Flatten()(input_layer)\n",
    "x = layers.Dense(units=200, activation='relu')(x)\n",
    "x = layers.Dense(units=150, activation='relu')(x)\n",
    "output_layer = layers.Dense(units=10, activation='softmax')(x)\n",
    "model = models.Model(input_layer, output_layer)\n",
    "\n",
    "model.summary()"
   ],
   "metadata": {
    "collapsed": false
   },
   "id": "1621f621b8bdbaed",
   "execution_count": null
  }
 ],
 "metadata": {
  "kernelspec": {
   "display_name": "Python 3",
   "language": "python",
   "name": "python3"
  },
  "language_info": {
   "codemirror_mode": {
    "name": "ipython",
    "version": 2
   },
   "file_extension": ".py",
   "mimetype": "text/x-python",
   "name": "python",
   "nbconvert_exporter": "python",
   "pygments_lexer": "ipython2",
   "version": "2.7.6"
  }
 },
 "nbformat": 4,
 "nbformat_minor": 5
}
